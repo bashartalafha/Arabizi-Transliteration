{
 "cells": [
  {
   "cell_type": "code",
   "execution_count": 1,
   "metadata": {},
   "outputs": [
    {
     "name": "stderr",
     "output_type": "stream",
     "text": [
      "Using TensorFlow backend.\n"
     ]
    }
   ],
   "source": [
    "from __future__ import print_function\n",
    "\n",
    "import sys\n",
    "import os\n",
    "import pandas as pd\n",
    "import numpy as np\n",
    "\n",
    "from keras.layers import Input, Embedding, LSTM, TimeDistributed, Dense\n",
    "from keras.models import Model, load_model\n",
    "\n",
    "from models import encoding"
   ]
  },
  {
   "cell_type": "code",
   "execution_count": 2,
   "metadata": {},
   "outputs": [],
   "source": [
    "LEARNING_RATE=0.5\n",
    "BATCH_SIZE = 64\n",
    "HIDDEN_NODES = 128\n",
    "NUMBER_OF_LAYERS = 2\n",
    "EMB_SIZE=100\n",
    "EPOCHS=30"
   ]
  },
  {
   "cell_type": "code",
   "execution_count": 3,
   "metadata": {},
   "outputs": [
    {
     "name": "stdout",
     "output_type": "stream",
     "text": [
      "tjaweb تجاوب\n",
      "arb3a2 اربعاء\n",
      "training size 12899\n",
      "validation size 2150\n"
     ]
    }
   ],
   "source": [
    "data = pd.read_excel('Arabizi-Arabic Parallel corpora.xlsx', header=None, skiprows=1)\n",
    "data = data.sample(frac=1, random_state=0)\n",
    "\n",
    "data_input = [str(s).strip().lower() for s in data[0]]\n",
    "data_output = [str(s).strip() for s in data[1]]\n",
    "print(data_input[0], data_output[0])\n",
    "print(data_input[5], data_output[5])\n",
    "\n",
    "data_size = len(data)\n",
    "\n",
    "# We will use the first 0-60th %-tile (60%) of data for the training\n",
    "range_of_train = int(data_size*60/100)\n",
    "\n",
    "training_input  = data_input[0: range_of_train ]\n",
    "training_output = data_output[0: range_of_train ]\n",
    "\n",
    "# We will use the first 60-70th %-tile (10%) of data for the training\n",
    "range_of_train = int(data_size*60/100)\n",
    "range_of_val = int(data_size*70/100)\n",
    "\n",
    "validation_input = data_input[range_of_train:range_of_val]\n",
    "validation_output = data_output[range_of_train: range_of_val]\n",
    "\n",
    "print('training size', len(training_input))\n",
    "print('validation size', len(validation_input))"
   ]
  },
  {
   "cell_type": "code",
   "execution_count": 4,
   "metadata": {},
   "outputs": [
    {
     "name": "stdout",
     "output_type": "stream",
     "text": [
      "max input len= 19 \n",
      "max output len= 12\n"
     ]
    }
   ],
   "source": [
    "INPUT_LENGTH=0\n",
    "OUTPUT_LENGTH=0\n",
    "for i in data_input:\n",
    "    if len(i)>INPUT_LENGTH:\n",
    "        INPUT_LENGTH=len(i)\n",
    "for i in data_output:\n",
    "    if len(i)>OUTPUT_LENGTH:\n",
    "        OUTPUT_LENGTH=len(i)\n",
    "print(\"max input len=\", INPUT_LENGTH,\"\\nmax output len=\",OUTPUT_LENGTH)"
   ]
  },
  {
   "cell_type": "markdown",
   "metadata": {},
   "source": [
    "## Transform data into Numpy arrays\n",
    "We transform the sequences of characters into sequences of integer IDs. This will be done by using pre-written functions in encoding module.\n",
    "\n",
    "First, encoding.build_characters_encoding will build encoding/decoding dictionary from the data.\n",
    "Then, encoding.transform will transform the data into numpy array."
   ]
  },
  {
   "cell_type": "code",
   "execution_count": 5,
   "metadata": {},
   "outputs": [
    {
     "name": "stdout",
     "output_type": "stream",
     "text": [
      "English character dict size: 52\n",
      "Katakana character dict size: 41\n",
      "encoded_training_input (12899, 19)\n",
      "encoded_training_output (12899, 12)\n",
      "encoded_validation_input (2150, 19)\n",
      "encoded_validation_output (2150, 12)\n"
     ]
    }
   ],
   "source": [
    "input_encoding, input_decoding, input_dict_size = encoding.build_characters_encoding(data_input)\n",
    "output_encoding, output_decoding, output_dict_size = encoding.build_characters_encoding(data_output)\n",
    "\n",
    "print('English character dict size:', input_dict_size)\n",
    "print('Arabic character dict size:', output_dict_size)\n",
    "\n",
    "encoded_training_input = encoding.transform(\n",
    "    input_encoding, training_input, vector_size=INPUT_LENGTH)\n",
    "encoded_training_output = encoding.transform(\n",
    "    output_encoding, training_output, vector_size=OUTPUT_LENGTH)\n",
    "\n",
    "print('encoded_training_input', encoded_training_input.shape)\n",
    "print('encoded_training_output', encoded_training_output.shape)\n",
    "\n",
    "encoded_validation_input = encoding.transform(\n",
    "    input_encoding, validation_input, vector_size=INPUT_LENGTH)\n",
    "encoded_validation_output = encoding.transform(\n",
    "    output_encoding, validation_output, vector_size=OUTPUT_LENGTH)\n",
    "\n",
    "print('encoded_validation_input', encoded_validation_input.shape)\n",
    "print('encoded_validation_output', encoded_validation_output.shape)"
   ]
  },
  {
   "cell_type": "markdown",
   "metadata": {},
   "source": [
    "# Sequence-to-Sequence in Keras"
   ]
  },
  {
   "cell_type": "code",
   "execution_count": 6,
   "metadata": {},
   "outputs": [],
   "source": [
    "encoder_input = Input(shape=(INPUT_LENGTH,))\n",
    "decoder_input = Input(shape=(OUTPUT_LENGTH,))"
   ]
  },
  {
   "cell_type": "markdown",
   "metadata": {},
   "source": [
    "### Encoder / Decoder\n"
   ]
  },
  {
   "cell_type": "code",
   "execution_count": 7,
   "metadata": {},
   "outputs": [
    {
     "name": "stdout",
     "output_type": "stream",
     "text": [
      "encoder Tensor(\"lstm_1/transpose_2:0\", shape=(?, 19, 128), dtype=float32)\n",
      "encoder_last Tensor(\"strided_slice:0\", shape=(?, 128), dtype=float32)\n",
      "decoder Tensor(\"lstm_2/transpose_2:0\", shape=(?, 12, 128), dtype=float32)\n"
     ]
    }
   ],
   "source": [
    "from keras.layers import SimpleRNN\n",
    "\n",
    "encoder = Embedding(input_dict_size, EMB_SIZE, input_length=INPUT_LENGTH, mask_zero=True)(encoder_input)\n",
    "encoder = LSTM(HIDDEN_NODES, return_sequences=True, unroll=True)(encoder)\n",
    "encoder_last = encoder[:,-1,:]\n",
    "\n",
    "print('encoder', encoder)\n",
    "print('encoder_last', encoder_last)\n",
    "\n",
    "decoder = Embedding(output_dict_size, EMB_SIZE, input_length=OUTPUT_LENGTH, mask_zero=True)(decoder_input)\n",
    "decoder = LSTM(HIDDEN_NODES, return_sequences=True, unroll=True)(decoder, initial_state=[encoder_last, encoder_last])\n",
    "\n",
    "print('decoder', decoder)"
   ]
  },
  {
   "cell_type": "markdown",
   "metadata": {},
   "source": [
    "### Attention Mechanism\n",
    "Reference: <a href=\"https://arxiv.org/pdf/1508.04025.pdf\">Effective Approaches to Attention-based Neural Machine Translation</a>'s Global Attention with Dot-based scoring function (Section 3, 3.1)"
   ]
  },
  {
   "cell_type": "code",
   "execution_count": 8,
   "metadata": {},
   "outputs": [
    {
     "name": "stdout",
     "output_type": "stream",
     "text": [
      "attention Tensor(\"attention/truediv:0\", shape=(?, 12, 19), dtype=float32)\n",
      "context Tensor(\"dot_2/MatMul:0\", shape=(?, 12, 128), dtype=float32)\n",
      "decoder_combined_context Tensor(\"concatenate_1/concat:0\", shape=(?, 12, 256), dtype=float32)\n",
      "output Tensor(\"time_distributed_2/Reshape_1:0\", shape=(?, 12, 41), dtype=float32)\n"
     ]
    }
   ],
   "source": [
    "from keras.layers import Activation, dot, concatenate\n",
    "\n",
    "# Equation (7) with 'dot' score from Section 3.1 in the paper.\n",
    "# Note that we reuse Softmax-activation layer instead of writing tensor calculation\n",
    "attention = dot([decoder, encoder], axes=[2, 2])\n",
    "attention = Activation('softmax', name='attention')(attention)\n",
    "print('attention', attention)\n",
    "\n",
    "context = dot([attention, encoder], axes=[2,1])\n",
    "print('context', context)\n",
    "\n",
    "decoder_combined_context = concatenate([context, decoder])\n",
    "print('decoder_combined_context', decoder_combined_context)\n",
    "\n",
    "# Has another weight + tanh layer as described in equation (5) of the paper\n",
    "output = TimeDistributed(Dense(HIDDEN_NODES, activation=\"tanh\"))(decoder_combined_context)\n",
    "output = TimeDistributed(Dense(output_dict_size, activation=\"softmax\"))(output)\n",
    "print('output', output)"
   ]
  },
  {
   "cell_type": "code",
   "execution_count": 72,
   "metadata": {},
   "outputs": [],
   "source": [
    "model = Model(inputs=[encoder_input, decoder_input], outputs=[output])\n",
    "model.compile(optimizer='adam', loss='categorical_crossentropy', metrics=['accuracy'])"
   ]
  },
  {
   "cell_type": "markdown",
   "metadata": {},
   "source": [
    "### Training the model"
   ]
  },
  {
   "cell_type": "code",
   "execution_count": 73,
   "metadata": {},
   "outputs": [],
   "source": [
    "training_encoder_input = encoded_training_input\n",
    "training_decoder_input = np.zeros_like(encoded_training_output)\n",
    "training_decoder_input[:, 1:] = encoded_training_output[:,:-1]\n",
    "training_decoder_input[:, 0] = encoding.CHAR_CODE_START\n",
    "training_decoder_output = np.eye(output_dict_size)[encoded_training_output.astype('int')]\n",
    "\n",
    "validation_encoder_input = encoded_validation_input\n",
    "validation_decoder_input = np.zeros_like(encoded_validation_output)\n",
    "validation_decoder_input[:, 1:] = encoded_validation_output[:,:-1]\n",
    "validation_decoder_input[:, 0] = encoding.CHAR_CODE_START\n",
    "validation_decoder_output = np.eye(output_dict_size)[encoded_validation_output.astype('int')]"
   ]
  },
  {
   "cell_type": "code",
   "execution_count": 74,
   "metadata": {},
   "outputs": [
    {
     "name": "stdout",
     "output_type": "stream",
     "text": [
      "Train on 12899 samples, validate on 2150 samples\n",
      "Epoch 1/30\n",
      " - 15s - loss: 0.0641 - acc: 0.9809 - val_loss: 0.4048 - val_acc: 0.9055\n",
      "Epoch 2/30\n",
      " - 8s - loss: 0.0550 - acc: 0.9835 - val_loss: 0.4426 - val_acc: 0.8943\n",
      "Epoch 3/30\n",
      " - 8s - loss: 0.0506 - acc: 0.9847 - val_loss: 0.3994 - val_acc: 0.9069\n",
      "Epoch 4/30\n",
      " - 8s - loss: 0.0482 - acc: 0.9858 - val_loss: 0.4510 - val_acc: 0.8976\n",
      "Epoch 5/30\n",
      " - 8s - loss: 0.0447 - acc: 0.9870 - val_loss: 0.4232 - val_acc: 0.9053\n",
      "Epoch 6/30\n",
      " - 8s - loss: 0.0408 - acc: 0.9883 - val_loss: 0.4258 - val_acc: 0.9022\n",
      "Epoch 7/30\n",
      " - 8s - loss: 0.0398 - acc: 0.9886 - val_loss: 0.4371 - val_acc: 0.9055\n",
      "Epoch 8/30\n",
      " - 8s - loss: 0.0371 - acc: 0.9893 - val_loss: 0.4293 - val_acc: 0.9064\n",
      "Epoch 9/30\n",
      " - 8s - loss: 0.0335 - acc: 0.9906 - val_loss: 0.4285 - val_acc: 0.9080\n",
      "Epoch 10/30\n",
      " - 8s - loss: 0.0322 - acc: 0.9911 - val_loss: 0.4551 - val_acc: 0.9028\n",
      "Epoch 11/30\n",
      " - 8s - loss: 0.0306 - acc: 0.9917 - val_loss: 0.4523 - val_acc: 0.9067\n",
      "Epoch 12/30\n",
      " - 8s - loss: 0.0299 - acc: 0.9919 - val_loss: 0.4515 - val_acc: 0.9065\n",
      "Epoch 13/30\n",
      " - 8s - loss: 0.0275 - acc: 0.9926 - val_loss: 0.4447 - val_acc: 0.9072\n",
      "Epoch 14/30\n",
      " - 8s - loss: 0.0263 - acc: 0.9928 - val_loss: 0.4439 - val_acc: 0.9054\n",
      "Epoch 15/30\n",
      " - 8s - loss: 0.0252 - acc: 0.9934 - val_loss: 0.4676 - val_acc: 0.9097\n",
      "Epoch 16/30\n",
      " - 8s - loss: 0.0228 - acc: 0.9942 - val_loss: 0.4653 - val_acc: 0.9081\n",
      "Epoch 17/30\n",
      " - 8s - loss: 0.0234 - acc: 0.9943 - val_loss: 0.4810 - val_acc: 0.9063\n",
      "Epoch 18/30\n",
      " - 8s - loss: 0.0216 - acc: 0.9947 - val_loss: 0.4998 - val_acc: 0.9042\n",
      "Epoch 19/30\n",
      " - 8s - loss: 0.0207 - acc: 0.9943 - val_loss: 0.4859 - val_acc: 0.9060\n",
      "Epoch 20/30\n",
      " - 8s - loss: 0.0199 - acc: 0.9950 - val_loss: 0.4928 - val_acc: 0.9050\n",
      "Epoch 21/30\n",
      " - 8s - loss: 0.0193 - acc: 0.9949 - val_loss: 0.4869 - val_acc: 0.9092\n",
      "Epoch 22/30\n",
      " - 8s - loss: 0.0193 - acc: 0.9950 - val_loss: 0.5155 - val_acc: 0.9004\n",
      "Epoch 23/30\n",
      " - 8s - loss: 0.0180 - acc: 0.9953 - val_loss: 0.5188 - val_acc: 0.9039\n",
      "Epoch 24/30\n",
      " - 8s - loss: 0.0176 - acc: 0.9953 - val_loss: 0.5356 - val_acc: 0.9021\n",
      "Epoch 25/30\n",
      " - 8s - loss: 0.0169 - acc: 0.9957 - val_loss: 0.5169 - val_acc: 0.9049\n",
      "Epoch 26/30\n",
      " - 8s - loss: 0.0168 - acc: 0.9957 - val_loss: 0.5137 - val_acc: 0.9068\n",
      "Epoch 27/30\n",
      " - 8s - loss: 0.0167 - acc: 0.9957 - val_loss: 0.5156 - val_acc: 0.9082\n",
      "Epoch 28/30\n",
      " - 8s - loss: 0.0164 - acc: 0.9957 - val_loss: 0.5111 - val_acc: 0.9061\n",
      "Epoch 29/30\n",
      " - 8s - loss: 0.0155 - acc: 0.9959 - val_loss: 0.5178 - val_acc: 0.9104\n",
      "Epoch 30/30\n",
      " - 8s - loss: 0.0159 - acc: 0.9959 - val_loss: 0.5235 - val_acc: 0.9097\n",
      "Train on 12899 samples, validate on 2150 samples\n",
      "Epoch 1/5\n",
      " - 8s - loss: 0.0143 - acc: 0.9963 - val_loss: 0.5201 - val_acc: 0.9085\n",
      "Epoch 2/5\n",
      " - 8s - loss: 0.0139 - acc: 0.9967 - val_loss: 0.5240 - val_acc: 0.9094\n",
      "Epoch 3/5\n",
      " - 8s - loss: 0.0143 - acc: 0.9963 - val_loss: 0.5209 - val_acc: 0.9103\n",
      "Epoch 4/5\n",
      " - 8s - loss: 0.0145 - acc: 0.9962 - val_loss: 0.5641 - val_acc: 0.9019\n",
      "Epoch 5/5\n",
      " - 8s - loss: 0.0147 - acc: 0.9958 - val_loss: 0.5503 - val_acc: 0.9060\n"
     ]
    },
    {
     "name": "stderr",
     "output_type": "stream",
     "text": [
      "/home/ub05user/virt_env/lib/python3.5/site-packages/Keras-2.2.0-py3.5.egg/keras/engine/network.py:888: UserWarning: Layer lstm_2 was passed non-serializable keyword arguments: {'initial_state': [<tf.Tensor 'strided_slice:0' shape=(?, 128) dtype=float32>, <tf.Tensor 'strided_slice:0' shape=(?, 128) dtype=float32>]}. They will not be included in the serialized model (and thus will be missing at deserialization time).\n",
      "  '. They will not be included '\n"
     ]
    }
   ],
   "source": [
    "history = None\n",
    "if os.path.isfile('model.h5'):\n",
    "    model = load_model('model.h5')\n",
    "else:\n",
    "    history = model.fit(x=[training_encoder_input, training_decoder_input], y=[training_decoder_output],\n",
    "          validation_data=([validation_encoder_input, validation_decoder_input], [validation_decoder_output]),\n",
    "          verbose=2, batch_size=BATCH_SIZE, epochs=EPOCHS)\n",
    "\n",
    "model.fit(x=[training_encoder_input, training_decoder_input], y=[training_decoder_output],\n",
    "          validation_data=([validation_encoder_input, validation_decoder_input], [validation_decoder_output]),\n",
    "          verbose=2, batch_size=BATCH_SIZE, epochs=5)\n",
    "\n",
    "model.save('model.h5')"
   ]
  },
  {
   "cell_type": "code",
   "execution_count": 75,
   "metadata": {},
   "outputs": [
    {
     "name": "stdout",
     "output_type": "stream",
     "text": [
      "dict_keys(['val_loss', 'val_acc', 'acc', 'loss'])\n"
     ]
    },
    {
     "name": "stderr",
     "output_type": "stream",
     "text": [
      "/home/ub05user/virt_env/lib/python3.5/site-packages/matplotlib/font_manager.py:1328: UserWarning: findfont: Font family ['Osaka'] not found. Falling back to DejaVu Sans\n",
      "  (prop.get_family(), self.defaultFamily[fontext]))\n"
     ]
    },
    {
     "data": {
      "image/png": "[encoded data removed]",
      "text/plain": [
       "<Figure size 432x288 with 1 Axes>"
      ]
     },
     "metadata": {},
     "output_type": "display_data"
    },
    {
     "data": {
      "image/png": "[encoded data removed]",
      "text/plain": [
       "<Figure size 432x288 with 1 Axes>"
      ]
     },
     "metadata": {},
     "output_type": "display_data"
    }
   ],
   "source": [
    "%matplotlib inline  \n",
    "import matplotlib\n",
    "import matplotlib.pyplot as plt\n",
    "import seaborn\n",
    "\n",
    "print(history.history.keys())\n",
    "# summarize history for accuracy\n",
    "plt.plot(history.history['acc'])\n",
    "plt.plot(history.history['val_acc'])\n",
    "plt.title('model accuracy')\n",
    "plt.ylabel('accuracy')\n",
    "plt.xlabel('epoch')\n",
    "plt.legend(['train', 'test'], loc='upper left')\n",
    "plt.show()\n",
    "# summarize history for loss\n",
    "plt.plot(history.history['loss'])\n",
    "plt.plot(history.history['val_loss'])\n",
    "plt.title('model loss')\n",
    "plt.ylabel('loss')\n",
    "plt.xlabel('epoch')\n",
    "plt.legend(['train', 'test'], loc='upper left')\n",
    "plt.show()"
   ]
  },
  {
   "cell_type": "markdown",
   "metadata": {},
   "source": [
    "### Testing the model\n"
   ]
  },
  {
   "cell_type": "code",
   "execution_count": 76,
   "metadata": {},
   "outputs": [
    {
     "name": "stdout",
     "output_type": "stream",
     "text": [
      "zalameh زلمه\n",
      "m7mad محمد\n",
      "a5bark اخبارك\n",
      "7elo حلو\n",
      "kefak كيفك\n",
      "tamam تمام\n"
     ]
    }
   ],
   "source": [
    "def generate(text):\n",
    "    encoder_input = encoding.transform(input_encoding, [text.lower()], INPUT_LENGTH)\n",
    "    decoder_input = np.zeros(shape=(len(encoder_input), OUTPUT_LENGTH))\n",
    "    decoder_input[:,0] = encoding.CHAR_CODE_START\n",
    "    for i in range(1, OUTPUT_LENGTH):\n",
    "        output = model.predict([encoder_input, decoder_input]).argmax(axis=2)\n",
    "        decoder_input[:,i] = output[:,i]\n",
    "    return decoder_input[:,1:]\n",
    "\n",
    "def decode(decoding, sequence):\n",
    "    text = ''\n",
    "    for i in sequence:\n",
    "        if i == 0:\n",
    "            break\n",
    "        text += output_decoding[i]\n",
    "    return text\n",
    "\n",
    "def to_arabic(text):\n",
    "    decoder_output = generate(text)\n",
    "    return decode(output_decoding, decoder_output[0])\n",
    "\n",
    "\n",
    "common_american_names = ['zalameh', 'm7mad', 'a5bark', '7elo', 'kefak', 'tamam']\n",
    "for name in common_american_names:\n",
    "    print(name, to_arabic(name))"
   ]
  },
  {
   "cell_type": "code",
   "execution_count": 77,
   "metadata": {},
   "outputs": [
    {
     "name": "stdout",
     "output_type": "stream",
     "text": [
      "صلام\n",
      "بيتاربكر\n",
      "جننيدو\n"
     ]
    }
   ],
   "source": [
    "print(to_arabic('salam'))\n",
    "print(to_arabic('Peter Parker'))\n",
    "print(to_arabic('Jonny Snow'))"
   ]
  },
  {
   "cell_type": "code",
   "execution_count": null,
   "metadata": {},
   "outputs": [],
   "source": []
  },
  {
   "cell_type": "markdown",
   "metadata": {},
   "source": [
    "## Test Data"
   ]
  },
  {
   "cell_type": "code",
   "execution_count": 78,
   "metadata": {},
   "outputs": [
    {
     "name": "stdout",
     "output_type": "stream",
     "text": [
      "testing size 1000\n"
     ]
    }
   ],
   "source": [
    "testing_input = data_input[range_of_val:range_of_val+1000]\n",
    "testing_output = data_output[range_of_val:range_of_val+1000]\n",
    "print('testing size', len(testing_input))"
   ]
  },
  {
   "cell_type": "code",
   "execution_count": 79,
   "metadata": {},
   "outputs": [
    {
     "data": {
      "text/plain": [
       "'a s d'"
      ]
     },
     "execution_count": 79,
     "metadata": {},
     "output_type": "execute_result"
    }
   ],
   "source": [
    "\" \".join(\"asd\")"
   ]
  },
  {
   "cell_type": "code",
   "execution_count": 80,
   "metadata": {},
   "outputs": [
    {
     "name": "stdout",
     "output_type": "stream",
     "text": [
      "0 1 2 3 4 5 6 7 8 9 10 11 12 13 14 15 16 17 18 19 20 21 22 23 24 25 26 27 28 29 30 31 32 33 34 35 36 37 38 39 40 41 42 43 44 45 46 47 48 49 50 51 52 53 54 55 56 57 58 59 60 61 62 63 64 65 66 67 68 69 70 71 72 73 74 75 76 77 78 79 80 81 82 83 84 85 86 87 88 89 90 91 92 93 94 95 96 97 98 99 100 101 102 103 104 105 106 107 108 109 110 111 112 113 114 115 116 117 118 119 120 121 122 123 124 125 126 127 128 129 130 131 132 133 134 135 136 137 138 139 140 141 142 143 144 145 146 147 148 149 150 151 152 153 154 155 156 157 158 159 160 161 162 163 164 165 166 167 168 169 170 171 172 173 174 175 176 177 178 179 180 181 182 183 184 185 186 187 188 189 190 191 192 193 194 195 196 197 198 199 200 201 202 203 204 205 206 207 208 209 210 211 212 213 214 215 216 217 218 219 220 221 222 223 224 225 226 227 228 229 230 231 232 233 234 235 236 237 238 239 240 241 242 243 244 245 246 247 248 249 250 251 252 253 254 255 256 257 258 259 260 261 262 263 264 265 266 267 268 269 270 271 272 273 274 275 276 277 278 279 280 281 282 283 284 285 286 287 288 289 290 291 292 293 294 295 296 297 298 299 300 301 302 303 304 305 306 307 308 309 310 311 312 313 314 315 316 317 318 319 320 321 322 323 324 325 326 327 328 329 330 331 332 333 334 335 336 337 338 339 340 341 342 343 344 345 346 347 348 349 350 351 352 353 354 355 356 357 358 359 360 361 362 363 364 365 366 367 368 369 370 371 372 373 374 375 376 377 378 379 380 381 382 383 384 385 386 387 388 389 390 391 392 393 394 395 396 397 398 399 400 401 402 403 404 405 406 407 408 409 410 411 412 413 414 415 416 417 418 419 420 421 422 423 424 425 426 427 428 429 430 431 432 433 434 435 436 437 438 439 440 441 442 443 444 445 446 447 448 449 450 451 452 453 454 455 456 457 458 459 460 461 462 463 464 465 466 467 468 469 470 471 472 473 474 475 476 477 478 479 480 481 482 483 484 485 486 487 488 489 490 491 492 493 494 495 496 497 498 499 500 501 502 503 504 505 506 507 508 509 510 511 512 513 514 515 516 517 518 519 520 521 522 523 524 525 526 527 528 529 530 531 532 533 534 535 536 537 538 539 540 541 542 543 544 545 546 547 548 549 550 551 552 553 554 555 556 557 558 559 560 561 562 563 564 565 566 567 568 569 570 571 572 573 574 575 576 577 578 579 580 581 582 583 584 585 586 587 588 589 590 591 592 593 594 595 596 597 598 599 600 601 602 603 604 605 606 607 608 609 610 611 612 613 614 615 616 617 618 619 620 621 622 623 624 625 626 627 628 629 630 631 632 633 634 635 636 637 638 639 640 641 642 643 644 645 646 647 648 649 650 651 652 653 654 655 656 657 658 659 660 661 662 663 664 665 666 667 668 669 670 671 672 673 674 675 676 677 678 679 680 681 682 683 684 685 686 687 688 689 690 691 692 693 694 695 696 697 698 699 700 701 702 703 704 705 706 707 708 709 710 711 712 713 714 715 716 717 718 719 720 721 722 723 724 725 726 727 728 729 730 731 732 733 734 735 736 737 738 739 740 741 742 743 744 745 746 747 748 749 750 751 752 753 754 755 756 757 758 759 760 761 762 763 764 765 766 767 768 769 770 771 772 773 774 775 776 777 778 779 780 781 782 783 784 785 786 787 788 789 790 791 792 793 794 795 796 797 798 799 800 801 802 803 804 805 806 807 808 809 810 811 812 813 814 815 816 817 818 819 820 821 822 823 824 825 826 827 828 829 830 831 832 833 834 835 836 837 838 839 840 841 842 843 844 845 846 847 848 849 850 851 852 853 854 855 856 857 858 859 860 861 862 863 864 865 866 867 868 869 870 871 872 873 874 875 876 877 878 879 880 881 882 883 884 885 886 887 888 889 890 891 892 893 894 895 896 897 898 899 900 901 902 903 904 905 906 907 908 909 910 911 912 913 914 915 916 917 918 919 920 921 922 923 924 925 926 927 928 929 930 931 932 933 934 935 936 937 938 939 940 941 942 943 944 945 946 947 948 949 950 951 952 953 954 955 956 957 958 959 960 961 962 963 964 965 966 967 968 969 970 971 972 973 974 975 976 977 978 979 980 981 982 983 984 985 986 987 988 989 990 991 992 993 994 995 996 997 998 999 \n",
      "Accuracy= 0.594\n"
     ]
    }
   ],
   "source": [
    "ref = open(\"ref.txt\", \"w\")\n",
    "pred = open(\"pred.txt\", \"w\")\n",
    "\n",
    "import sys\n",
    "sum_of_trues=0\n",
    "\n",
    "i=0\n",
    "for s,t in zip(testing_input,testing_output):\n",
    "    sys.stdout.write(str(i)+' ')\n",
    "    ref.write(\" \".join(t)+\"\\n\")\n",
    "    i+=1\n",
    "    p = to_arabic(s)\n",
    "    pred.write(\" \".join(p)+\"\\n\")\n",
    "   # print(s,\"=>\",to_arabic(s), (to_arabic(s) == t))\n",
    "    if p == t:\n",
    "        sum_of_trues+=1\n",
    "        \n",
    "print(\"\\nAccuracy=\",sum_of_trues/(len(testing_input)))\n",
    "ref.close()\n",
    "pred.close()"
   ]
  },
  {
   "cell_type": "code",
   "execution_count": 81,
   "metadata": {},
   "outputs": [
    {
     "data": {
      "text/plain": [
       "74.14"
      ]
     },
     "execution_count": 81,
     "metadata": {},
     "output_type": "execute_result"
    }
   ],
   "source": [
    "from bleu import moses_multi_bleu\n",
    "ref_arr = [i.strip() for i in open(\"ref.txt\").readlines()]\n",
    "pred_arr = [i.strip() for i in open(\"pred.txt\").readlines()]\n",
    "\n",
    "moses_multi_bleu(ref_arr, pred_arr)"
   ]
  },
  {
   "cell_type": "markdown",
   "metadata": {},
   "source": [
    "# Visualize Attention"
   ]
  },
  {
   "cell_type": "markdown",
   "metadata": {},
   "source": [
    "The next step is visualizing the attention values of the medel during the translation.\n",
    "\n",
    "To do that, the first step is to locate \"attention\" layer of the model. The attention layer is the 7th layers of the model (model.layers[7]), which is the softmax activation-layer after dot-score. Or we can also simply call model.get_layer('attention') as we previously name the layer as \"attention\"."
   ]
  },
  {
   "cell_type": "code",
   "execution_count": 82,
   "metadata": {},
   "outputs": [
    {
     "name": "stdout",
     "output_type": "stream",
     "text": [
      "<keras.engine.input_layer.InputLayer object at 0x7f09f0758b38>\tname:input_2\n",
      "<keras.engine.input_layer.InputLayer object at 0x7f09f0758e48>\tname:input_1\n",
      "<keras.layers.embeddings.Embedding object at 0x7f09efe50cf8>\tname:embedding_2\n",
      "<keras.layers.embeddings.Embedding object at 0x7f09efe50780>\tname:embedding_1\n",
      "<keras.layers.recurrent.LSTM object at 0x7f09efe55a90>\tname:lstm_2\n",
      "<keras.layers.recurrent.LSTM object at 0x7f09efe50748>\tname:lstm_1\n",
      "<keras.layers.merge.Dot object at 0x7f09ec615ef0>\tname:dot_1\n",
      "<keras.layers.core.Activation object at 0x7f09ec615f28>\tname:attention\n",
      "<keras.layers.merge.Dot object at 0x7f09ec615fd0>\tname:dot_2\n",
      "<keras.layers.merge.Concatenate object at 0x7f09ec626c50>\tname:concatenate_1\n",
      "<keras.layers.wrappers.TimeDistributed object at 0x7f09ec62bf28>\tname:time_distributed_1\n",
      "<keras.layers.wrappers.TimeDistributed object at 0x7f09ec5d17f0>\tname:time_distributed_2\n"
     ]
    }
   ],
   "source": [
    "layers = model.layers\n",
    "for l in layers:\n",
    "    print('%s\\tname:%s' % (str(l), l.name))\n",
    "    \n",
    "assert(model.layers[7] == model.get_layer('attention'))"
   ]
  },
  {
   "cell_type": "code",
   "execution_count": 83,
   "metadata": {},
   "outputs": [
    {
     "name": "stdout",
     "output_type": "stream",
     "text": [
      "<keras.engine.training.Model object at 0x7f09e4bcab38>\n",
      "[(None, 12, 41), (None, 12, 19)]\n"
     ]
    }
   ],
   "source": [
    "attention_layer = model.get_layer('attention') # or model.layers[7]\n",
    "attention_model = Model(inputs=model.inputs, outputs=model.outputs + [attention_layer.output])\n",
    "\n",
    "print(attention_model)\n",
    "print(attention_model.output_shape)"
   ]
  },
  {
   "cell_type": "code",
   "execution_count": 84,
   "metadata": {},
   "outputs": [],
   "source": [
    "%matplotlib inline  \n",
    "import matplotlib\n",
    "import matplotlib.pyplot as plt\n",
    "import seaborn\n",
    "\n",
    "seaborn.set(font=['Osaka'], font_scale=3)\n",
    "\n",
    "def attent_and_generate(text):\n",
    "    encoder_input = encoding.transform(input_encoding, [text.lower()], INPUT_LENGTH)\n",
    "    decoder_input = np.zeros(shape=(len(encoder_input), OUTPUT_LENGTH))\n",
    "    decoder_input[:,0] = encoding.CHAR_CODE_START\n",
    "    \n",
    "    for i in range(1, OUTPUT_LENGTH):\n",
    "        output, attention = attention_model.predict([encoder_input, decoder_input])\n",
    "        decoder_input[:,i] = output.argmax(axis=2)[:,i]\n",
    "        attention_density = attention[0]\n",
    "        decoded_output = decode(output_decoding, decoder_input[0][1:])\n",
    "        \n",
    "    return attention_density, decoded_output\n",
    "\n",
    "\n",
    "def visualize(text):\n",
    "    attention_density, arabic = attent_and_generate(text)\n",
    "\n",
    "    plt.clf()\n",
    "    plt.figure(figsize=(28,12))\n",
    "    \n",
    "    ax = seaborn.heatmap(attention_density[:len(arabic) , : len(text) ],\n",
    "        xticklabels=[w for w in text],\n",
    "        yticklabels=[w for w in arabic])\n",
    "\n",
    "    ax.invert_yaxis()\n",
    "    plt.show()"
   ]
  },
  {
   "cell_type": "code",
   "execution_count": 85,
   "metadata": {},
   "outputs": [
    {
     "name": "stderr",
     "output_type": "stream",
     "text": [
      "/home/ub05user/virt_env/lib/python3.5/site-packages/matplotlib/font_manager.py:1328: UserWarning: findfont: Font family ['Osaka'] not found. Falling back to DejaVu Sans\n",
      "  (prop.get_family(), self.defaultFamily[fontext]))\n"
     ]
    },
    {
     "data": {
      "text/plain": [
       "<Figure size 432x288 with 0 Axes>"
      ]
     },
     "metadata": {},
     "output_type": "display_data"
    },
    {
     "data": {
      "image/png": "[encoded data removed]",
      "text/plain": [
       "<Figure size 2016x864 with 2 Axes>"
      ]
     },
     "metadata": {},
     "output_type": "display_data"
    }
   ],
   "source": [
    "visualize('kefak')\n"
   ]
  },
  {
   "cell_type": "code",
   "execution_count": null,
   "metadata": {},
   "outputs": [],
   "source": []
  }
 ],
 "metadata": {
  "kernelspec": {
   "display_name": "Tensorflow_Last",
   "language": "python",
   "name": "tensorflow_last"
  },
  "language_info": {
   "codemirror_mode": {
    "name": "ipython",
    "version": 3
   },
   "file_extension": ".py",
   "mimetype": "text/x-python",
   "name": "python",
   "nbconvert_exporter": "python",
   "pygments_lexer": "ipython3",
   "version": "3.5.2"
  }
 },
 "nbformat": 4,
 "nbformat_minor": 2
}
